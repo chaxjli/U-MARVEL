{
 "cells": [
  {
   "cell_type": "code",
   "execution_count": 6,
   "id": "e853fcba-060d-4aeb-a886-d2f9d9baafb9",
   "metadata": {},
   "outputs": [
    {
     "name": "stdout",
     "output_type": "stream",
     "text": [
      "JSON 文件已保存到 zero2.json\n"
     ]
    }
   ],
   "source": [
    "import json\n",
    "\n",
    "# 定义配置字典\n",
    "config = {\n",
    "    \"train_micro_batch_size_per_gpu\": 72,\n",
    "    \"gradient_accumulation_steps\": 1,\n",
    "    \"zero_optimization\": {\n",
    "        \"stage\": 2,\n",
    "        \"offload_optimizer\": {\n",
    "            \"device\": \"none\"\n",
    "        },\n",
    "        \"allgather_partitions\": True,\n",
    "        \"allgather_bucket_size\": 200000000,\n",
    "        \"reduce_scatter\": True,\n",
    "        \"reduce_bucket_size\": 200000000,\n",
    "        \"overlap_comm\": True,\n",
    "        \"contiguous_gradients\": True\n",
    "    },\n",
    "    \"bf16\": {\n",
    "        \"enabled\": \"auto\"\n",
    "    },\n",
    "    \"gradient_clipping\": 1.0,\n",
    "    \"steps_per_print\": 2000,\n",
    "    \"wall_clock_breakdown\": False\n",
    "}\n",
    "\n",
    "# 指定要保存的 JSON 文件路径\n",
    "file_path = \"zero2.json\"\n",
    "\n",
    "# 将字典写入 JSON 文件\n",
    "with open(file_path, 'w') as f:\n",
    "    json.dump(config, f, indent=2)\n",
    "\n",
    "print(f\"JSON 文件已保存到 {file_path}\")"
   ]
  },
  {
   "cell_type": "code",
   "execution_count": 4,
   "id": "ebbbfdac-5d1d-408a-9940-131cf35a3e07",
   "metadata": {},
   "outputs": [],
   "source": [
    "import json\n",
    "file_path = \"/group/40077/chaxjli/projects/InternLM-XComposer/finetune/ds_config_zero2_offload.json\"\n",
    "# 将字典写入 JSON 文件\n",
    "with open(file_path, 'r') as f:\n",
    "    file_config = json.load(f)"
   ]
  },
  {
   "cell_type": "code",
   "execution_count": 5,
   "id": "db9bdec2-2b04-498b-b54d-e81255dabe29",
   "metadata": {},
   "outputs": [
    {
     "data": {
      "text/plain": [
       "{'fp16': {'enabled': 'auto',\n",
       "  'loss_scale': 0,\n",
       "  'loss_scale_window': 1000,\n",
       "  'initial_scale_power': 16,\n",
       "  'hysteresis': 2,\n",
       "  'min_loss_scale': 1},\n",
       " 'bf16': {'enabled': 'auto'},\n",
       " 'zero_optimization': {'stage': 2,\n",
       "  'offload_optimizer': {'device': 'cpu', 'pin_memory': True},\n",
       "  'allgather_partitions': True,\n",
       "  'allgather_bucket_size': 200000000.0,\n",
       "  'overlap_comm': True,\n",
       "  'reduce_scatter': True,\n",
       "  'reduce_bucket_size': 200000000.0,\n",
       "  'contiguous_gradients': True},\n",
       " 'gradient_accumulation_steps': 'auto',\n",
       " 'gradient_clipping': 'auto',\n",
       " 'steps_per_print': 100,\n",
       " 'train_batch_size': 'auto',\n",
       " 'train_micro_batch_size_per_gpu': 'auto',\n",
       " 'wall_clock_breakdown': False}"
      ]
     },
     "execution_count": 5,
     "metadata": {},
     "output_type": "execute_result"
    }
   ],
   "source": [
    "file_config"
   ]
  },
  {
   "cell_type": "code",
   "execution_count": null,
   "id": "2dec9d0e-78e6-4513-a2a2-848174c11b1c",
   "metadata": {},
   "outputs": [],
   "source": []
  }
 ],
 "metadata": {
  "kernelspec": {
   "display_name": "python(3.8.8)",
   "language": "python",
   "name": "env-3.8.8"
  },
  "language_info": {
   "codemirror_mode": {
    "name": "ipython",
    "version": 3
   },
   "file_extension": ".py",
   "mimetype": "text/x-python",
   "name": "python",
   "nbconvert_exporter": "python",
   "pygments_lexer": "ipython3",
   "version": "3.8.8"
  }
 },
 "nbformat": 4,
 "nbformat_minor": 5
}
